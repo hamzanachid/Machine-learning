{
 "cells": [
  {
   "cell_type": "markdown",
   "id": "6a123c2a",
   "metadata": {},
   "source": [
    "# package NUMPY"
   ]
  },
  {
   "cell_type": "code",
   "execution_count": 1,
   "id": "a44b2ba1",
   "metadata": {},
   "outputs": [],
   "source": [
    "import numpy as np #import le package numpy \n"
   ]
  },
  {
   "cell_type": "markdown",
   "id": "7a66b5a6",
   "metadata": {},
   "source": [
    "#---------------------------------------Rules of Broadcasting-------------------------------------------------\n",
    "\n",
    "# Broadcasting in NumPy follows a strict set of rules to determine the interaction between the two arrays:\n",
    "\n",
    "# • Rule 1: If the two arrays differ in their number of dimensions, the shape of the one with fewer dimensions is padded with ones on its leading (left) side.\n",
    "\n",
    "# • Rule 2: If the shape of the two arrays does not match in any dimension, the array with shape equal to 1 in that dimension is stretched to match the other shape.\n",
    "\n",
    "# • Rule 3: If in any dimension the sizes disagree and neither is equal to 1, an error is raised."
   ]
  },
  {
   "cell_type": "code",
   "execution_count": 2,
   "id": "7013e8b7",
   "metadata": {},
   "outputs": [
    {
     "data": {
      "text/plain": [
       "array([1, 2, 3])"
      ]
     },
     "execution_count": 2,
     "metadata": {},
     "output_type": "execute_result"
    }
   ],
   "source": [
    "np.array([1,2,3]) #cree une vecteur de 3 colomn"
   ]
  },
  {
   "cell_type": "code",
   "execution_count": 3,
   "id": "0d60dfa0",
   "metadata": {},
   "outputs": [
    {
     "data": {
      "text/plain": [
       "array([[1, 2, 3],\n",
       "       [4, 5, 6],\n",
       "       [7, 8, 9]])"
      ]
     },
     "execution_count": 3,
     "metadata": {},
     "output_type": "execute_result"
    }
   ],
   "source": [
    "A=np.array([[1,2,3],[4,5,6],[7,8,9]]) #cree une matrice de taille 3x3\n",
    "A"
   ]
  },
  {
   "cell_type": "code",
   "execution_count": 4,
   "id": "9cf73c4a",
   "metadata": {},
   "outputs": [
    {
     "data": {
      "text/plain": [
       "(3, 3)"
      ]
     },
     "execution_count": 4,
     "metadata": {},
     "output_type": "execute_result"
    }
   ],
   "source": [
    "A.shape # donner la taille du matrice"
   ]
  },
  {
   "cell_type": "code",
   "execution_count": 5,
   "id": "bb22ef95",
   "metadata": {},
   "outputs": [
    {
     "data": {
      "text/plain": [
       "9"
      ]
     },
     "execution_count": 5,
     "metadata": {},
     "output_type": "execute_result"
    }
   ],
   "source": [
    "A.size # donner le nombre d'element dans cette matrice"
   ]
  },
  {
   "cell_type": "code",
   "execution_count": 6,
   "id": "60076031",
   "metadata": {},
   "outputs": [
    {
     "data": {
      "text/plain": [
       "2"
      ]
     },
     "execution_count": 6,
     "metadata": {},
     "output_type": "execute_result"
    }
   ],
   "source": [
    "A.ndim # donner le dimention de cette matrice"
   ]
  },
  {
   "cell_type": "code",
   "execution_count": 7,
   "id": "5aca3ac6",
   "metadata": {},
   "outputs": [
    {
     "data": {
      "text/plain": [
       "array([[0., 0., 0.],\n",
       "       [0., 0., 0.],\n",
       "       [0., 0., 0.]])"
      ]
     },
     "execution_count": 7,
     "metadata": {},
     "output_type": "execute_result"
    }
   ],
   "source": [
    "B=np.zeros((3,3)) #cree une matrice de taille 3x3 avec tous les valeurs sont des 0\n",
    "B"
   ]
  },
  {
   "cell_type": "code",
   "execution_count": 8,
   "id": "1e182093",
   "metadata": {},
   "outputs": [
    {
     "data": {
      "text/plain": [
       "array([[1., 1., 1.],\n",
       "       [1., 1., 1.],\n",
       "       [1., 1., 1.]])"
      ]
     },
     "execution_count": 8,
     "metadata": {},
     "output_type": "execute_result"
    }
   ],
   "source": [
    "B=np.ones((3,3)) #cree une matrice de taille 3x3 avec tous les valeurs sont des 1\n",
    "B"
   ]
  },
  {
   "cell_type": "code",
   "execution_count": 9,
   "id": "2677e97a",
   "metadata": {},
   "outputs": [
    {
     "data": {
      "text/plain": [
       "array([[5, 5, 5],\n",
       "       [5, 5, 5],\n",
       "       [5, 5, 5]])"
      ]
     },
     "execution_count": 9,
     "metadata": {},
     "output_type": "execute_result"
    }
   ],
   "source": [
    "b=np.full((3,3),5) #cree une matrice de taille 3x3 avec tous les valeurs sont des 5\n",
    "b"
   ]
  },
  {
   "cell_type": "code",
   "execution_count": 10,
   "id": "7064bbce",
   "metadata": {},
   "outputs": [
    {
     "data": {
      "text/plain": [
       "array([[-2.09341892, -0.82622086, -0.65023049],\n",
       "       [-0.2298033 , -1.23661341, -1.90943473]])"
      ]
     },
     "execution_count": 10,
     "metadata": {},
     "output_type": "execute_result"
    }
   ],
   "source": [
    "np.random.randn(2,3) #cree une matrice random de taille 2x3 "
   ]
  },
  {
   "cell_type": "code",
   "execution_count": 11,
   "id": "6079fc4f",
   "metadata": {},
   "outputs": [
    {
     "data": {
      "text/plain": [
       "array([[1., 0., 0., 0.],\n",
       "       [0., 1., 0., 0.],\n",
       "       [0., 0., 1., 0.],\n",
       "       [0., 0., 0., 1.]])"
      ]
     },
     "execution_count": 11,
     "metadata": {},
     "output_type": "execute_result"
    }
   ],
   "source": [
    "np.eye(4) # cree une matrice identite 4x4"
   ]
  },
  {
   "cell_type": "code",
   "execution_count": 12,
   "id": "45e0c0be",
   "metadata": {},
   "outputs": [
    {
     "data": {
      "text/plain": [
       "array([ 0,  0,  1,  1,  2,  2,  3,  3,  4,  4,  5,  5,  6,  6,  7,  7,  8,\n",
       "        8,  9, 10])"
      ]
     },
     "execution_count": 12,
     "metadata": {},
     "output_type": "execute_result"
    }
   ],
   "source": [
    "np.linspace(0,10,20,dtype=int) # cree une vecteur debut par 0 et fin par 10 et de 20 elements ,dtype pour changer le type du variable"
   ]
  },
  {
   "cell_type": "code",
   "execution_count": 13,
   "id": "fa02828e",
   "metadata": {},
   "outputs": [
    {
     "data": {
      "text/plain": [
       "array([0, 2, 4, 6, 8])"
      ]
     },
     "execution_count": 13,
     "metadata": {},
     "output_type": "execute_result"
    }
   ],
   "source": [
    "np.arange(0,10,2) # cree une vecteur debut par 0 et fin par 10 et avec un pas de 2"
   ]
  },
  {
   "cell_type": "code",
   "execution_count": 14,
   "id": "1ff2c3b0",
   "metadata": {},
   "outputs": [
    {
     "data": {
      "text/plain": [
       "array([[0., 0., 0.],\n",
       "       [0., 0., 0.],\n",
       "       [0., 0., 0.],\n",
       "       [1., 1., 1.],\n",
       "       [1., 1., 1.],\n",
       "       [1., 1., 1.]])"
      ]
     },
     "execution_count": 14,
     "metadata": {},
     "output_type": "execute_result"
    }
   ],
   "source": [
    "A=np.zeros((3,3))\n",
    "B=np.ones((3,3))\n",
    "np.vstack((A,B)) # concatene deux matrice verticalement "
   ]
  },
  {
   "cell_type": "code",
   "execution_count": 15,
   "id": "c46213ac",
   "metadata": {},
   "outputs": [
    {
     "data": {
      "text/plain": [
       "array([[0., 0., 0., 1., 1., 1.],\n",
       "       [0., 0., 0., 1., 1., 1.],\n",
       "       [0., 0., 0., 1., 1., 1.]])"
      ]
     },
     "execution_count": 15,
     "metadata": {},
     "output_type": "execute_result"
    }
   ],
   "source": [
    "np.hstack((A,B))  # concatene deux matrice horiztalement"
   ]
  },
  {
   "cell_type": "code",
   "execution_count": 16,
   "id": "4f81e239",
   "metadata": {},
   "outputs": [
    {
     "data": {
      "text/plain": [
       "array([[0., 0., 0.],\n",
       "       [0., 0., 0.],\n",
       "       [0., 0., 0.],\n",
       "       [1., 1., 1.],\n",
       "       [1., 1., 1.],\n",
       "       [1., 1., 1.]])"
      ]
     },
     "execution_count": 16,
     "metadata": {},
     "output_type": "execute_result"
    }
   ],
   "source": [
    "np.concatenate((A,B),axis=0) # comme vstack "
   ]
  },
  {
   "cell_type": "code",
   "execution_count": 17,
   "id": "7a8f7171",
   "metadata": {},
   "outputs": [
    {
     "data": {
      "text/plain": [
       "array([[0., 0., 0., 1., 1., 1.],\n",
       "       [0., 0., 0., 1., 1., 1.],\n",
       "       [0., 0., 0., 1., 1., 1.]])"
      ]
     },
     "execution_count": 17,
     "metadata": {},
     "output_type": "execute_result"
    }
   ],
   "source": [
    "np.concatenate((A,B),axis=1) # comme hstack (concatenate est plus mieux que les autres car on peux concatene des matrice dans l 3eme dim si on donne a axis la valeur 2)"
   ]
  },
  {
   "cell_type": "code",
   "execution_count": 18,
   "id": "7044590e",
   "metadata": {},
   "outputs": [
    {
     "data": {
      "text/plain": [
       "array([ 0.        ,  1.11111111,  2.22222222,  3.33333333,  4.44444444,\n",
       "        5.55555556,  6.66666667,  7.77777778,  8.88888889, 10.        ])"
      ]
     },
     "execution_count": 18,
     "metadata": {},
     "output_type": "execute_result"
    }
   ],
   "source": [
    "b=np.linspace(0,10,10)\n",
    "b"
   ]
  },
  {
   "cell_type": "code",
   "execution_count": 19,
   "id": "cd85bae4",
   "metadata": {},
   "outputs": [
    {
     "data": {
      "text/plain": [
       "(10,)"
      ]
     },
     "execution_count": 19,
     "metadata": {},
     "output_type": "execute_result"
    }
   ],
   "source": [
    "np.shape(b)"
   ]
  },
  {
   "cell_type": "code",
   "execution_count": 20,
   "id": "5d1296c3",
   "metadata": {},
   "outputs": [
    {
     "data": {
      "text/plain": [
       "array([[ 0.        ],\n",
       "       [ 1.11111111],\n",
       "       [ 2.22222222],\n",
       "       [ 3.33333333],\n",
       "       [ 4.44444444],\n",
       "       [ 5.55555556],\n",
       "       [ 6.66666667],\n",
       "       [ 7.77777778],\n",
       "       [ 8.88888889],\n",
       "       [10.        ]])"
      ]
     },
     "execution_count": 20,
     "metadata": {},
     "output_type": "execute_result"
    }
   ],
   "source": [
    "b.reshape((10,1)) # changer le shape du matrice (le nombre des elements doit etre toujours la meme)"
   ]
  },
  {
   "cell_type": "code",
   "execution_count": 21,
   "id": "f04307d1",
   "metadata": {},
   "outputs": [
    {
     "data": {
      "text/plain": [
       "array([ 0.        ,  1.11111111,  2.22222222,  3.33333333,  4.44444444,\n",
       "        5.55555556,  6.66666667,  7.77777778,  8.88888889, 10.        ])"
      ]
     },
     "execution_count": 21,
     "metadata": {},
     "output_type": "execute_result"
    }
   ],
   "source": [
    "np.shape(b)\n",
    "np.squeeze(b)"
   ]
  },
  {
   "cell_type": "code",
   "execution_count": 22,
   "id": "9ce0b7c3",
   "metadata": {},
   "outputs": [
    {
     "data": {
      "text/plain": [
       "array([0., 0., 0., 0., 0., 0., 0., 0., 0.])"
      ]
     },
     "execution_count": 22,
     "metadata": {},
     "output_type": "execute_result"
    }
   ],
   "source": [
    "A.ravel() # convertir une matrice a une  vecteur"
   ]
  },
  {
   "cell_type": "code",
   "execution_count": 23,
   "id": "7f046ad2",
   "metadata": {},
   "outputs": [
    {
     "data": {
      "text/plain": [
       "array([ True,  True, False,  True,  True, False, False,  True, False,\n",
       "       False, False,  True, False, False, False, False, False])"
      ]
     },
     "execution_count": 23,
     "metadata": {},
     "output_type": "execute_result"
    }
   ],
   "source": [
    "C=np.array([2,4,6,1,2,5,8,2,23,213,5,2,66234,23,65,7,573]) \n",
    "C<5 #si c[i]<5 donne true sinon donne false"
   ]
  },
  {
   "cell_type": "code",
   "execution_count": 24,
   "id": "fd477e66",
   "metadata": {},
   "outputs": [],
   "source": [
    "C[C<5]=9999 # si c[i] < 5 => c[i]=9999"
   ]
  },
  {
   "cell_type": "code",
   "execution_count": 25,
   "id": "81ba6b61",
   "metadata": {},
   "outputs": [
    {
     "data": {
      "text/plain": [
       "array([ 9999,  9999,     6,  9999,  9999,     5,     8,  9999,    23,\n",
       "         213,     5,  9999, 66234,    23,    65,     7,   573])"
      ]
     },
     "execution_count": 25,
     "metadata": {},
     "output_type": "execute_result"
    }
   ],
   "source": [
    "C"
   ]
  },
  {
   "cell_type": "code",
   "execution_count": 26,
   "id": "927d84e5",
   "metadata": {},
   "outputs": [
    {
     "data": {
      "text/plain": [
       "array([[44, 47, 64, 67, 67],\n",
       "       [ 9, 83, 21, 36, 87],\n",
       "       [70, 88, 88, 12, 58],\n",
       "       [65, 39, 87, 46, 88],\n",
       "       [81, 37, 25, 77, 72]])"
      ]
     },
     "execution_count": 26,
     "metadata": {},
     "output_type": "execute_result"
    }
   ],
   "source": [
    "np.random.seed(0)\n",
    "array=np.random.randint(0,100,[5,5])\n",
    "array"
   ]
  },
  {
   "cell_type": "code",
   "execution_count": 27,
   "id": "c3977b1f",
   "metadata": {},
   "outputs": [
    {
     "data": {
      "text/plain": [
       "1458"
      ]
     },
     "execution_count": 27,
     "metadata": {},
     "output_type": "execute_result"
    }
   ],
   "source": [
    "array.sum()# sommer les elements du matrice"
   ]
  },
  {
   "cell_type": "code",
   "execution_count": 28,
   "id": "6fadb6f0",
   "metadata": {},
   "outputs": [
    {
     "data": {
      "text/plain": [
       "array([269, 294, 285, 238, 372])"
      ]
     },
     "execution_count": 28,
     "metadata": {},
     "output_type": "execute_result"
    }
   ],
   "source": [
    "array.sum(axis=0) #sommer les elements de chaque ligne"
   ]
  },
  {
   "cell_type": "code",
   "execution_count": 29,
   "id": "24212572",
   "metadata": {},
   "outputs": [
    {
     "data": {
      "text/plain": [
       "array([289, 236, 316, 325, 292])"
      ]
     },
     "execution_count": 29,
     "metadata": {},
     "output_type": "execute_result"
    }
   ],
   "source": [
    "array.sum(axis=1) # sommer les elements de chaque column"
   ]
  },
  {
   "cell_type": "code",
   "execution_count": 30,
   "id": "a60489c4",
   "metadata": {},
   "outputs": [
    {
     "data": {
      "text/plain": [
       "9"
      ]
     },
     "execution_count": 30,
     "metadata": {},
     "output_type": "execute_result"
    }
   ],
   "source": [
    "array.min() # donner le min"
   ]
  },
  {
   "cell_type": "code",
   "execution_count": 31,
   "id": "df09fec7",
   "metadata": {},
   "outputs": [
    {
     "data": {
      "text/plain": [
       "88"
      ]
     },
     "execution_count": 31,
     "metadata": {},
     "output_type": "execute_result"
    }
   ],
   "source": [
    "array.max() # donner le max"
   ]
  },
  {
   "cell_type": "code",
   "execution_count": 32,
   "id": "790fc576",
   "metadata": {},
   "outputs": [
    {
     "data": {
      "text/plain": [
       "array([ 9, 37, 21, 12, 58])"
      ]
     },
     "execution_count": 32,
     "metadata": {},
     "output_type": "execute_result"
    }
   ],
   "source": [
    "array.min(axis=0) # donner le max de chaque"
   ]
  },
  {
   "cell_type": "code",
   "execution_count": 33,
   "id": "471c88b8",
   "metadata": {},
   "outputs": [
    {
     "data": {
      "text/plain": [
       "5"
      ]
     },
     "execution_count": 33,
     "metadata": {},
     "output_type": "execute_result"
    }
   ],
   "source": [
    "array.argmin() #donner l'indece du min"
   ]
  },
  {
   "cell_type": "code",
   "execution_count": 34,
   "id": "f52ea2d1",
   "metadata": {},
   "outputs": [
    {
     "data": {
      "text/plain": [
       "array([[ 9, 37, 21, 12, 58],\n",
       "       [44, 39, 25, 36, 67],\n",
       "       [65, 47, 64, 46, 72],\n",
       "       [70, 83, 87, 67, 87],\n",
       "       [81, 88, 88, 77, 88]])"
      ]
     },
     "execution_count": 34,
     "metadata": {},
     "output_type": "execute_result"
    }
   ],
   "source": [
    "np.sort(array,axis=0) # trier les elements du matrice pour chaque ligne"
   ]
  },
  {
   "cell_type": "code",
   "execution_count": 35,
   "id": "c266ad9f",
   "metadata": {},
   "outputs": [
    {
     "data": {
      "text/plain": [
       "array([[1, 4, 1, 2, 2],\n",
       "       [0, 3, 4, 1, 0],\n",
       "       [3, 0, 0, 3, 4],\n",
       "       [2, 1, 3, 0, 1],\n",
       "       [4, 2, 2, 4, 3]], dtype=int64)"
      ]
     },
     "execution_count": 35,
     "metadata": {},
     "output_type": "execute_result"
    }
   ],
   "source": [
    "np.argsort(array,axis=0)"
   ]
  },
  {
   "cell_type": "code",
   "execution_count": 36,
   "id": "df1fa9f8",
   "metadata": {},
   "outputs": [
    {
     "data": {
      "text/plain": [
       "array([[1.28516001e+19, 2.58131289e+20, 6.23514908e+27, 1.25236317e+29,\n",
       "        1.25236317e+29],\n",
       "       [8.10308393e+03, 1.11286375e+36, 1.31881573e+09, 4.31123155e+15,\n",
       "        6.07603023e+37],\n",
       "       [2.51543867e+30, 1.65163625e+38, 1.65163625e+38, 1.62754791e+05,\n",
       "        1.54553894e+25],\n",
       "       [1.69488924e+28, 8.65934004e+16, 6.07603023e+37, 9.49611942e+19,\n",
       "        1.65163625e+38],\n",
       "       [1.50609731e+35, 1.17191424e+16, 7.20048993e+10, 2.75851345e+33,\n",
       "        1.85867175e+31]])"
      ]
     },
     "execution_count": 36,
     "metadata": {},
     "output_type": "execute_result"
    }
   ],
   "source": [
    "np.exp(array) # calculer exp de chaque element"
   ]
  },
  {
   "cell_type": "code",
   "execution_count": 37,
   "id": "5600ca90",
   "metadata": {},
   "outputs": [
    {
     "data": {
      "text/plain": [
       "array([[3.78418963, 3.8501476 , 4.15888308, 4.20469262, 4.20469262],\n",
       "       [2.19722458, 4.41884061, 3.04452244, 3.58351894, 4.46590812],\n",
       "       [4.24849524, 4.47733681, 4.47733681, 2.48490665, 4.06044301],\n",
       "       [4.17438727, 3.66356165, 4.46590812, 3.8286414 , 4.47733681],\n",
       "       [4.39444915, 3.61091791, 3.21887582, 4.34380542, 4.27666612]])"
      ]
     },
     "execution_count": 37,
     "metadata": {},
     "output_type": "execute_result"
    }
   ],
   "source": [
    "np.log(array) # calculer log de chaque elemente"
   ]
  },
  {
   "cell_type": "code",
   "execution_count": 38,
   "id": "3151e230",
   "metadata": {},
   "outputs": [
    {
     "data": {
      "text/plain": [
       "array([[ 9, 20, 80, 69],\n",
       "       [79, 47, 64, 82],\n",
       "       [99, 88, 49, 29],\n",
       "       [19, 19, 14, 39]])"
      ]
     },
     "execution_count": 38,
     "metadata": {},
     "output_type": "execute_result"
    }
   ],
   "source": [
    "A=np.random.randint(0,100,[4,4])\n",
    "A"
   ]
  },
  {
   "cell_type": "code",
   "execution_count": 39,
   "id": "64e0e546",
   "metadata": {},
   "outputs": [
    {
     "data": {
      "text/plain": [
       "50.375"
      ]
     },
     "execution_count": 39,
     "metadata": {},
     "output_type": "execute_result"
    }
   ],
   "source": [
    "A.mean() # moyenne des elements du tableua"
   ]
  },
  {
   "cell_type": "code",
   "execution_count": 40,
   "id": "ffbb7b98",
   "metadata": {},
   "outputs": [
    {
     "data": {
      "text/plain": [
       "29.085810543974876"
      ]
     },
     "execution_count": 40,
     "metadata": {},
     "output_type": "execute_result"
    }
   ],
   "source": [
    "A.std() # ecart-type du matrice"
   ]
  },
  {
   "cell_type": "code",
   "execution_count": 41,
   "id": "8b033aa7",
   "metadata": {},
   "outputs": [
    {
     "data": {
      "text/plain": [
       "845.984375"
      ]
     },
     "execution_count": 41,
     "metadata": {},
     "output_type": "execute_result"
    }
   ],
   "source": [
    "A.var() # variance du matrice"
   ]
  },
  {
   "cell_type": "code",
   "execution_count": 42,
   "id": "32920c32",
   "metadata": {},
   "outputs": [
    {
     "data": {
      "text/plain": [
       "array([[ 1.        ,  0.19150629, -0.92884189,  0.26678056],\n",
       "       [ 0.19150629,  1.        , -0.34717639,  0.56154525],\n",
       "       [-0.92884189, -0.34717639,  1.        , -0.60353566],\n",
       "       [ 0.26678056,  0.56154525, -0.60353566,  1.        ]])"
      ]
     },
     "execution_count": 42,
     "metadata": {},
     "output_type": "execute_result"
    }
   ],
   "source": [
    "np.corrcoef(A) # donner la corr de chaque deux ligne"
   ]
  },
  {
   "cell_type": "code",
   "execution_count": 43,
   "id": "87a38957",
   "metadata": {},
   "outputs": [
    {
     "data": {
      "text/plain": [
       "16"
      ]
     },
     "execution_count": 43,
     "metadata": {},
     "output_type": "execute_result"
    }
   ],
   "source": [
    "np.count_nonzero(A) # count les elements qui sont non-null"
   ]
  },
  {
   "cell_type": "code",
   "execution_count": 44,
   "id": "ecb1f9c6",
   "metadata": {},
   "outputs": [
    {
     "data": {
      "text/plain": [
       "(array([ 9, 14, 19, 20, 29, 39, 47, 49, 64, 69, 79, 80, 82, 88, 99]),\n",
       " array([1, 1, 2, 1, 1, 1, 1, 1, 1, 1, 1, 1, 1, 1, 1], dtype=int64))"
      ]
     },
     "execution_count": 44,
     "metadata": {},
     "output_type": "execute_result"
    }
   ],
   "source": [
    "np.unique(A,return_counts=True) # count la repetition de chaque element"
   ]
  },
  {
   "cell_type": "code",
   "execution_count": 45,
   "id": "e122d28f",
   "metadata": {},
   "outputs": [],
   "source": [
    "B=np.corrcoef(A)"
   ]
  },
  {
   "cell_type": "code",
   "execution_count": 46,
   "id": "92d1b53a",
   "metadata": {},
   "outputs": [
    {
     "data": {
      "text/plain": [
       "array([[ 1.        ,  0.19150629, -0.92884189,  0.26678056],\n",
       "       [ 0.19150629,         nan,         nan,  0.56154525],\n",
       "       [-0.92884189,         nan,         nan, -0.60353566],\n",
       "       [ 0.26678056,  0.56154525, -0.60353566,  1.        ]])"
      ]
     },
     "execution_count": 46,
     "metadata": {},
     "output_type": "execute_result"
    }
   ],
   "source": [
    "B[1:-1,1:-1]=np.nan # donner a les valeur qui sont a  l'intreir la valeur nan(not a number)\n",
    "B"
   ]
  },
  {
   "cell_type": "code",
   "execution_count": 47,
   "id": "a36eeb93",
   "metadata": {},
   "outputs": [
    {
     "data": {
      "text/plain": [
       "0.08124242497516038"
      ]
     },
     "execution_count": 47,
     "metadata": {},
     "output_type": "execute_result"
    }
   ],
   "source": [
    "np.nanmean(B) # calcule moyenne et ingore le nan"
   ]
  },
  {
   "cell_type": "code",
   "execution_count": 48,
   "id": "28bed0d5",
   "metadata": {},
   "outputs": [
    {
     "data": {
      "text/plain": [
       "0.6596185957855655"
      ]
     },
     "execution_count": 48,
     "metadata": {},
     "output_type": "execute_result"
    }
   ],
   "source": [
    "np.nanstd(B) # calcule std et ingore le nan"
   ]
  },
  {
   "cell_type": "code",
   "execution_count": 49,
   "id": "c492fa6f",
   "metadata": {},
   "outputs": [
    {
     "data": {
      "text/plain": [
       "0.4350966919061212"
      ]
     },
     "execution_count": 49,
     "metadata": {},
     "output_type": "execute_result"
    }
   ],
   "source": [
    "np.nanvar(B)  # calcule var et ingore le nan"
   ]
  },
  {
   "cell_type": "code",
   "execution_count": 50,
   "id": "68ce44be",
   "metadata": {},
   "outputs": [
    {
     "data": {
      "text/plain": [
       "array([[False, False, False, False],\n",
       "       [False,  True,  True, False],\n",
       "       [False,  True,  True, False],\n",
       "       [False, False, False, False]])"
      ]
     },
     "execution_count": 50,
     "metadata": {},
     "output_type": "execute_result"
    }
   ],
   "source": [
    "np.isnan(B) # retourn true if l'element is nan"
   ]
  },
  {
   "cell_type": "code",
   "execution_count": 51,
   "id": "6b152b6c",
   "metadata": {},
   "outputs": [],
   "source": [
    "B[np.isnan(B)]=0 # donner a les elements qui sont nan la valeur 0"
   ]
  },
  {
   "cell_type": "code",
   "execution_count": 52,
   "id": "c5d7cc9f",
   "metadata": {},
   "outputs": [
    {
     "data": {
      "text/plain": [
       "array([[ 1.        ,  0.19150629, -0.92884189,  0.26678056],\n",
       "       [ 0.19150629,  0.        ,  0.        ,  0.56154525],\n",
       "       [-0.92884189,  0.        ,  0.        , -0.60353566],\n",
       "       [ 0.26678056,  0.56154525, -0.60353566,  1.        ]])"
      ]
     },
     "execution_count": 52,
     "metadata": {},
     "output_type": "execute_result"
    }
   ],
   "source": [
    "B"
   ]
  },
  {
   "cell_type": "code",
   "execution_count": 53,
   "id": "61dec1ad",
   "metadata": {},
   "outputs": [
    {
     "data": {
      "text/plain": [
       "array([[ 9, 20, 80, 69],\n",
       "       [79, 47, 64, 82],\n",
       "       [99, 88, 49, 29],\n",
       "       [19, 19, 14, 39]])"
      ]
     },
     "execution_count": 53,
     "metadata": {},
     "output_type": "execute_result"
    }
   ],
   "source": [
    "A"
   ]
  },
  {
   "cell_type": "code",
   "execution_count": 54,
   "id": "d366315e",
   "metadata": {},
   "outputs": [
    {
     "data": {
      "text/plain": [
       "array([[ 9, 79, 99, 19],\n",
       "       [20, 47, 88, 19],\n",
       "       [80, 64, 49, 14],\n",
       "       [69, 82, 29, 39]])"
      ]
     },
     "execution_count": 54,
     "metadata": {},
     "output_type": "execute_result"
    }
   ],
   "source": [
    "A.T #transpose de la matrice A"
   ]
  },
  {
   "cell_type": "code",
   "execution_count": 55,
   "id": "f9e0b343",
   "metadata": {},
   "outputs": [
    {
     "data": {
      "text/plain": [
       "array([[-0.01399462,  0.02825304, -0.0052762 , -0.03072078],\n",
       "       [ 0.00875146, -0.03458426,  0.01845113,  0.04351221],\n",
       "       [ 0.01402608,  0.00406624,  0.00219703, -0.03499859],\n",
       "       [-0.00248064,  0.00162477, -0.00720723,  0.0319729 ]])"
      ]
     },
     "execution_count": 55,
     "metadata": {},
     "output_type": "execute_result"
    }
   ],
   "source": [
    "np.linalg.inv(A) #inverse du matrice A"
   ]
  },
  {
   "cell_type": "code",
   "execution_count": 56,
   "id": "81b0a44c",
   "metadata": {},
   "outputs": [
    {
     "data": {
      "text/plain": [
       "6357227.000000005"
      ]
     },
     "execution_count": 56,
     "metadata": {},
     "output_type": "execute_result"
    }
   ],
   "source": [
    "np.linalg.det(A) #ditermenet du matrice A"
   ]
  },
  {
   "cell_type": "code",
   "execution_count": 57,
   "id": "b22a8e6f",
   "metadata": {},
   "outputs": [
    {
     "data": {
      "text/plain": [
       "(array([197.30538137,  24.73403476, -53.84770139, -24.19171474]),\n",
       " array([[-0.41160526, -0.21180514, -0.80049679,  0.71093995],\n",
       "        [-0.59735193,  0.20160524,  0.26179694, -0.68775711],\n",
       "        [-0.66438318, -0.67570659,  0.53835178, -0.14465697],\n",
       "        [-0.17985207,  0.67669381,  0.02906235,  0.02507803]]))"
      ]
     },
     "execution_count": 57,
     "metadata": {},
     "output_type": "execute_result"
    }
   ],
   "source": [
    "np.linalg.eig(A) #retourn les valeurs et les vecteur propre"
   ]
  },
  {
   "cell_type": "code",
   "execution_count": 58,
   "id": "4f15cfdf",
   "metadata": {},
   "outputs": [
    {
     "data": {
      "text/plain": [
       "array([1, 2, 3, 4])"
      ]
     },
     "execution_count": 58,
     "metadata": {},
     "output_type": "execute_result"
    }
   ],
   "source": [
    "a=np.arange(1,5,1)\n",
    "a"
   ]
  },
  {
   "cell_type": "code",
   "execution_count": 59,
   "id": "85cffa29",
   "metadata": {},
   "outputs": [
    {
     "data": {
      "text/plain": [
       "array([[ 1,  2,  3,  4],\n",
       "       [ 2,  4,  6,  8],\n",
       "       [ 3,  6,  9, 12],\n",
       "       [ 4,  8, 12, 16]])"
      ]
     },
     "execution_count": 59,
     "metadata": {},
     "output_type": "execute_result"
    }
   ],
   "source": [
    "np.multiply.outer(a,a) # matrice a.T * a"
   ]
  },
  {
   "cell_type": "code",
   "execution_count": 60,
   "id": "1dd7f1b8",
   "metadata": {},
   "outputs": [
    {
     "data": {
      "text/plain": [
       "4"
      ]
     },
     "execution_count": 60,
     "metadata": {},
     "output_type": "execute_result"
    }
   ],
   "source": [
    "np.count_nonzero(a)"
   ]
  },
  {
   "cell_type": "code",
   "execution_count": 61,
   "id": "8e8f8307",
   "metadata": {},
   "outputs": [
    {
     "data": {
      "text/plain": [
       "False"
      ]
     },
     "execution_count": 61,
     "metadata": {},
     "output_type": "execute_result"
    }
   ],
   "source": [
    "np.all(a<3) # retourn true if tous les elements sont inferieur a 3"
   ]
  },
  {
   "cell_type": "code",
   "execution_count": 62,
   "id": "085d796c",
   "metadata": {},
   "outputs": [
    {
     "data": {
      "text/plain": [
       "True"
      ]
     },
     "execution_count": 62,
     "metadata": {},
     "output_type": "execute_result"
    }
   ],
   "source": [
    "np.any(a<3) #retourn true if un element est inferieur a 3"
   ]
  },
  {
   "cell_type": "code",
   "execution_count": 63,
   "id": "40304565",
   "metadata": {},
   "outputs": [
    {
     "name": "stdout",
     "output_type": "stream",
     "text": [
      " partition(a, kth, axis=-1, kind='introselect', order=None)\n",
      "\n",
      "Return a partitioned copy of an array.\n",
      "\n",
      "Creates a copy of the array with its elements rearranged in such a\n",
      "way that the value of the element in k-th position is in the\n",
      "position it would be in a sorted array. All elements smaller than\n",
      "the k-th element are moved before this element and all equal or\n",
      "greater are moved behind it. The ordering of the elements in the two\n",
      "partitions is undefined.\n",
      "\n",
      ".. versionadded:: 1.8.0\n",
      "\n",
      "Parameters\n",
      "----------\n",
      "a : array_like\n",
      "    Array to be sorted.\n",
      "kth : int or sequence of ints\n",
      "    Element index to partition by. The k-th value of the element\n",
      "    will be in its final sorted position and all smaller elements\n",
      "    will be moved before it and all equal or greater elements behind\n",
      "    it. The order of all elements in the partitions is undefined. If\n",
      "    provided with a sequence of k-th it will partition all elements\n",
      "    indexed by k-th  of them into their sorted position at once.\n",
      "axis : int or None, optional\n",
      "    Axis along which to sort. If None, the array is flattened before\n",
      "    sorting. The default is -1, which sorts along the last axis.\n",
      "kind : {'introselect'}, optional\n",
      "    Selection algorithm. Default is 'introselect'.\n",
      "order : str or list of str, optional\n",
      "    When `a` is an array with fields defined, this argument\n",
      "    specifies which fields to compare first, second, etc.  A single\n",
      "    field can be specified as a string.  Not all fields need be\n",
      "    specified, but unspecified fields will still be used, in the\n",
      "    order in which they come up in the dtype, to break ties.\n",
      "\n",
      "Returns\n",
      "-------\n",
      "partitioned_array : ndarray\n",
      "    Array of the same type and shape as `a`.\n",
      "\n",
      "See Also\n",
      "--------\n",
      "ndarray.partition : Method to sort an array in-place.\n",
      "argpartition : Indirect partition.\n",
      "sort : Full sorting\n",
      "\n",
      "Notes\n",
      "-----\n",
      "The various selection algorithms are characterized by their average\n",
      "speed, worst case performance, work space size, and whether they are\n",
      "stable. A stable sort keeps items with the same key in the same\n",
      "relative order. The available algorithms have the following\n",
      "properties:\n",
      "\n",
      "================= ======= ============= ============ =======\n",
      "   kind            speed   worst case    work space  stable\n",
      "================= ======= ============= ============ =======\n",
      "'introselect'        1        O(n)           0         no\n",
      "================= ======= ============= ============ =======\n",
      "\n",
      "All the partition algorithms make temporary copies of the data when\n",
      "partitioning along any but the last axis.  Consequently,\n",
      "partitioning along the last axis is faster and uses less space than\n",
      "partitioning along any other axis.\n",
      "\n",
      "The sort order for complex numbers is lexicographic. If both the\n",
      "real and imaginary parts are non-nan then the order is determined by\n",
      "the real parts except when they are equal, in which case the order\n",
      "is determined by the imaginary parts.\n",
      "\n",
      "Examples\n",
      "--------\n",
      ">>> a = np.array([3, 4, 2, 1])\n",
      ">>> np.partition(a, 3)\n",
      "array([2, 1, 3, 4])\n",
      "\n",
      ">>> np.partition(a, (1, 3))\n",
      "array([1, 2, 3, 4])\n"
     ]
    }
   ],
   "source": [
    "np.info(np.partition) # donner comment une methode travaille"
   ]
  },
  {
   "cell_type": "code",
   "execution_count": 64,
   "id": "23485788",
   "metadata": {},
   "outputs": [],
   "source": [
    "b=np.copy(a) # copy un matrice"
   ]
  },
  {
   "cell_type": "code",
   "execution_count": 65,
   "id": "442eae52",
   "metadata": {},
   "outputs": [
    {
     "data": {
      "text/plain": [
       "array([1, 2, 3, 4])"
      ]
     },
     "execution_count": 65,
     "metadata": {},
     "output_type": "execute_result"
    }
   ],
   "source": [
    "b"
   ]
  },
  {
   "cell_type": "code",
   "execution_count": 66,
   "id": "d6ff4869",
   "metadata": {},
   "outputs": [
    {
     "name": "stdout",
     "output_type": "stream",
     "text": [
      "None\n"
     ]
    }
   ],
   "source": [
    "print(b.base) # voir si un matrice est basee d'un autre matrice (c-a-d si on change dans b ,dans copy a ne change pas )"
   ]
  },
  {
   "cell_type": "code",
   "execution_count": 67,
   "id": "454c1203",
   "metadata": {},
   "outputs": [],
   "source": [
    "b=a.view( ) # view comme copy mais view est basee a une autre matrice"
   ]
  },
  {
   "cell_type": "code",
   "execution_count": 68,
   "id": "2cee8dd3",
   "metadata": {},
   "outputs": [
    {
     "data": {
      "text/plain": [
       "array([1, 2, 3, 4])"
      ]
     },
     "execution_count": 68,
     "metadata": {},
     "output_type": "execute_result"
    }
   ],
   "source": [
    "b"
   ]
  },
  {
   "cell_type": "code",
   "execution_count": 69,
   "id": "6738f396",
   "metadata": {},
   "outputs": [
    {
     "data": {
      "text/plain": [
       "array([1, 2, 3, 4])"
      ]
     },
     "execution_count": 69,
     "metadata": {},
     "output_type": "execute_result"
    }
   ],
   "source": [
    "b.base"
   ]
  },
  {
   "cell_type": "code",
   "execution_count": 70,
   "id": "47d557ec",
   "metadata": {},
   "outputs": [
    {
     "data": {
      "text/plain": [
       "array([1, 2, 3, 4])"
      ]
     },
     "execution_count": 70,
     "metadata": {},
     "output_type": "execute_result"
    }
   ],
   "source": [
    "a"
   ]
  },
  {
   "cell_type": "code",
   "execution_count": 71,
   "id": "8ac480b2",
   "metadata": {},
   "outputs": [
    {
     "data": {
      "text/plain": [
       "array([ 1,  2,  3,  4,  1, 22, 33,  4])"
      ]
     },
     "execution_count": 71,
     "metadata": {},
     "output_type": "execute_result"
    }
   ],
   "source": [
    "np.append(a,[1,22,33,4])"
   ]
  },
  {
   "cell_type": "code",
   "execution_count": 72,
   "id": "07443421",
   "metadata": {},
   "outputs": [],
   "source": [
    "A=np.array([[1,2,3],[1,2,3]])\n",
    "A=np.append(A,[[5,6,7]],axis=0)"
   ]
  },
  {
   "cell_type": "code",
   "execution_count": 73,
   "id": "9451251b",
   "metadata": {},
   "outputs": [
    {
     "data": {
      "text/plain": [
       "array([[1, 3],\n",
       "       [1, 3],\n",
       "       [5, 7]])"
      ]
     },
     "execution_count": 73,
     "metadata": {},
     "output_type": "execute_result"
    }
   ],
   "source": [
    "np.delete(A,1,axis=1) # delete un column(axis=1) ou un ligne(axis=0)"
   ]
  },
  {
   "cell_type": "code",
   "execution_count": 74,
   "id": "61ce6f74",
   "metadata": {},
   "outputs": [
    {
     "data": {
      "text/plain": [
       "[array([[1, 2, 3]]), array([[1, 2, 3]]), array([[5, 6, 7]])]"
      ]
     },
     "execution_count": 74,
     "metadata": {},
     "output_type": "execute_result"
    }
   ],
   "source": [
    "np.split(A,3) # decomposer matrice A a trois matrice"
   ]
  },
  {
   "cell_type": "code",
   "execution_count": 75,
   "id": "53aac62e",
   "metadata": {},
   "outputs": [
    {
     "data": {
      "text/plain": [
       "array([0, 1, 2, 3, 4, 5, 6, 7, 8, 9])"
      ]
     },
     "execution_count": 75,
     "metadata": {},
     "output_type": "execute_result"
    }
   ],
   "source": [
    "A=np.arange(0,10,1)\n",
    "A"
   ]
  },
  {
   "cell_type": "code",
   "execution_count": 76,
   "id": "89694ac0",
   "metadata": {},
   "outputs": [
    {
     "data": {
      "text/plain": [
       "array([ 2,  3,  4,  5,  6,  7,  8,  9, 10, 11])"
      ]
     },
     "execution_count": 76,
     "metadata": {},
     "output_type": "execute_result"
    }
   ],
   "source": [
    "np.add(A,2) # ajouter a tous les  elements la valuer 2"
   ]
  },
  {
   "cell_type": "code",
   "execution_count": 77,
   "id": "5689a328",
   "metadata": {},
   "outputs": [
    {
     "data": {
      "text/plain": [
       "array([ 0, 10, 20, 30, 40, 50, 60, 70, 80, 90])"
      ]
     },
     "execution_count": 77,
     "metadata": {},
     "output_type": "execute_result"
    }
   ],
   "source": [
    "np.multiply(A,10)"
   ]
  },
  {
   "cell_type": "code",
   "execution_count": 78,
   "id": "a5fe51ff",
   "metadata": {},
   "outputs": [
    {
     "data": {
      "text/plain": [
       "array([         0,          1,       1024,      59049,    1048576,\n",
       "          9765625,   60466176,  282475249, 1073741824, -808182895],\n",
       "      dtype=int32)"
      ]
     },
     "execution_count": 78,
     "metadata": {},
     "output_type": "execute_result"
    }
   ],
   "source": [
    "np.power(A,10)"
   ]
  },
  {
   "cell_type": "code",
   "execution_count": 79,
   "id": "9b475327",
   "metadata": {},
   "outputs": [
    {
     "data": {
      "text/plain": [
       "array([-10,  -9,  -8,  -7,  -6,  -5,  -4,  -3,  -2,  -1])"
      ]
     },
     "execution_count": 79,
     "metadata": {},
     "output_type": "execute_result"
    }
   ],
   "source": [
    "np.subtract(A,10)"
   ]
  },
  {
   "cell_type": "code",
   "execution_count": 80,
   "id": "7274cfa8",
   "metadata": {},
   "outputs": [
    {
     "data": {
      "text/plain": [
       "array([0.        , 0.33333333, 0.66666667, 1.        , 1.33333333,\n",
       "       1.66666667, 2.        , 2.33333333, 2.66666667, 3.        ])"
      ]
     },
     "execution_count": 80,
     "metadata": {},
     "output_type": "execute_result"
    }
   ],
   "source": [
    "np.divide(A,3)"
   ]
  },
  {
   "cell_type": "code",
   "execution_count": 81,
   "id": "093ba64b",
   "metadata": {},
   "outputs": [
    {
     "data": {
      "text/plain": [
       "array([[124,  65,  72,  93, 113],\n",
       "       [140,  89, 105,  94, 122],\n",
       "       [ 50,  45,  69,  47,  69],\n",
       "       [169, 104, 100, 102, 129],\n",
       "       [171,  92,  79,  96, 114]])"
      ]
     },
     "execution_count": 81,
     "metadata": {},
     "output_type": "execute_result"
    }
   ],
   "source": [
    "A=np.random.randint(0,10,[5,5])\n",
    "B=np.random.randint(0,10,[5,5])\n",
    "A.dot(B)# multiplycation matriciel "
   ]
  },
  {
   "cell_type": "code",
   "execution_count": 82,
   "id": "e9de19bf",
   "metadata": {},
   "outputs": [
    {
     "data": {
      "text/plain": [
       "False"
      ]
     },
     "execution_count": 82,
     "metadata": {},
     "output_type": "execute_result"
    }
   ],
   "source": [
    "np.array_equal(A,B) # retourn True si les deux matrice sont egaux"
   ]
  },
  {
   "cell_type": "code",
   "execution_count": 83,
   "id": "c3242eb7",
   "metadata": {},
   "outputs": [],
   "source": [
    "A2=np.array([3,3,4])\n",
    "B2=np.array([[3,0,-1],[0,1,0],[3,0,-1]])"
   ]
  },
  {
   "cell_type": "code",
   "execution_count": 84,
   "id": "3ed738c2",
   "metadata": {},
   "outputs": [
    {
     "data": {
      "text/plain": [
       "array([[ 9,  0, -4],\n",
       "       [ 0,  3,  0],\n",
       "       [ 9,  0, -4]])"
      ]
     },
     "execution_count": 84,
     "metadata": {},
     "output_type": "execute_result"
    }
   ],
   "source": [
    "A2*B2"
   ]
  },
  {
   "cell_type": "code",
   "execution_count": 85,
   "id": "77fd97a8",
   "metadata": {},
   "outputs": [
    {
     "data": {
      "text/plain": [
       "array([[49, 81, 81,  9, 36],\n",
       "       [49,  4,  0,  9, 25],\n",
       "       [81, 16, 16, 36, 16],\n",
       "       [16,  9, 16, 16, 64],\n",
       "       [16,  9, 49, 25, 25]])"
      ]
     },
     "execution_count": 85,
     "metadata": {},
     "output_type": "execute_result"
    }
   ],
   "source": [
    "np.multiply( B,B )"
   ]
  }
 ],
 "metadata": {
  "kernelspec": {
   "display_name": "Python 3 (ipykernel)",
   "language": "python",
   "name": "python3"
  },
  "language_info": {
   "codemirror_mode": {
    "name": "ipython",
    "version": 3
   },
   "file_extension": ".py",
   "mimetype": "text/x-python",
   "name": "python",
   "nbconvert_exporter": "python",
   "pygments_lexer": "ipython3",
   "version": "3.9.12"
  }
 },
 "nbformat": 4,
 "nbformat_minor": 5
}
